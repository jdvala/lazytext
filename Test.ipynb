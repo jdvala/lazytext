{
 "cells": [
  {
   "cell_type": "code",
   "execution_count": 29,
   "id": "30b5959e",
   "metadata": {},
   "outputs": [
    {
     "name": "stderr",
     "output_type": "stream",
     "text": [
      "[nltk_data] Downloading package punkt to /home/jay-vala/nltk_data...\n",
      "[nltk_data]   Package punkt is already up-to-date!\n",
      "[nltk_data] Downloading package stopwords to /home/jay-\n",
      "[nltk_data]     vala/nltk_data...\n",
      "[nltk_data]   Package stopwords is already up-to-date!\n",
      "[nltk_data] Downloading package wordnet to /home/jay-vala/nltk_data...\n",
      "[nltk_data]   Package wordnet is already up-to-date!\n",
      "[nltk_data] Downloading package omw-1.4 to /home/jay-vala/nltk_data...\n",
      "[nltk_data]   Package omw-1.4 is already up-to-date!\n"
     ]
    },
    {
     "data": {
      "text/plain": [
       "True"
      ]
     },
     "execution_count": 29,
     "metadata": {},
     "output_type": "execute_result"
    }
   ],
   "source": [
    "import pandas as pd\n",
    "from sklearn.feature_extraction.text import TfidfVectorizer\n",
    "from lazytext.supervised import LazyTextPredict\n",
    "import re\n",
    "\n",
    "# Load the dataset\n",
    "df = pd.read_csv(\"/home/jay-vala/python projects/lazytext/tests/assets/bbc-text.csv\")\n",
    "df.dropna(inplace=True)\n",
    "\n",
    "\n",
    "# clean the dataset\n",
    "import nltk\n",
    "nltk.download('punkt')\n",
    "nltk.download('stopwords')\n",
    "nltk.download('wordnet')\n",
    "nltk.download('omw-1.4')"
   ]
  },
  {
   "cell_type": "code",
   "execution_count": 30,
   "id": "8b20c0ec",
   "metadata": {},
   "outputs": [],
   "source": [
    "from sklearn.model_selection import train_test_split\n",
    "df_train, df_test = train_test_split(df, test_size=0.3, random_state=13)"
   ]
  },
  {
   "cell_type": "code",
   "execution_count": 32,
   "id": "0338a0e4",
   "metadata": {},
   "outputs": [
    {
     "data": {
      "text/html": [
       "<div>\n",
       "<style scoped>\n",
       "    .dataframe tbody tr th:only-of-type {\n",
       "        vertical-align: middle;\n",
       "    }\n",
       "\n",
       "    .dataframe tbody tr th {\n",
       "        vertical-align: top;\n",
       "    }\n",
       "\n",
       "    .dataframe thead th {\n",
       "        text-align: right;\n",
       "    }\n",
       "</style>\n",
       "<table border=\"1\" class=\"dataframe\">\n",
       "  <thead>\n",
       "    <tr style=\"text-align: right;\">\n",
       "      <th></th>\n",
       "      <th>category</th>\n",
       "      <th>text</th>\n",
       "    </tr>\n",
       "  </thead>\n",
       "  <tbody>\n",
       "    <tr>\n",
       "      <th>2007</th>\n",
       "      <td>tech</td>\n",
       "      <td>new delay hits eu software laws a fresh delay ...</td>\n",
       "    </tr>\n",
       "    <tr>\n",
       "      <th>2172</th>\n",
       "      <td>sport</td>\n",
       "      <td>middlesbrough 2-2 charlton a late header by te...</td>\n",
       "    </tr>\n",
       "    <tr>\n",
       "      <th>2187</th>\n",
       "      <td>sport</td>\n",
       "      <td>jones files conte lawsuit marion jones has fil...</td>\n",
       "    </tr>\n",
       "    <tr>\n",
       "      <th>1878</th>\n",
       "      <td>sport</td>\n",
       "      <td>wales hails new superstar one game into his si...</td>\n",
       "    </tr>\n",
       "    <tr>\n",
       "      <th>1414</th>\n",
       "      <td>entertainment</td>\n",
       "      <td>doves soar to uk album summit manchester rock ...</td>\n",
       "    </tr>\n",
       "    <tr>\n",
       "      <th>...</th>\n",
       "      <td>...</td>\n",
       "      <td>...</td>\n",
       "    </tr>\n",
       "    <tr>\n",
       "      <th>153</th>\n",
       "      <td>business</td>\n",
       "      <td>german business confidence slides german busin...</td>\n",
       "    </tr>\n",
       "    <tr>\n",
       "      <th>1780</th>\n",
       "      <td>entertainment</td>\n",
       "      <td>hobbit picture  four years away  lord of the r...</td>\n",
       "    </tr>\n",
       "    <tr>\n",
       "      <th>866</th>\n",
       "      <td>entertainment</td>\n",
       "      <td>south bank awards honour hit soap coronation s...</td>\n",
       "    </tr>\n",
       "    <tr>\n",
       "      <th>74</th>\n",
       "      <td>business</td>\n",
       "      <td>call to save manufacturing jobs the trades uni...</td>\n",
       "    </tr>\n",
       "    <tr>\n",
       "      <th>338</th>\n",
       "      <td>business</td>\n",
       "      <td>aids and climate top davos agenda climate chan...</td>\n",
       "    </tr>\n",
       "  </tbody>\n",
       "</table>\n",
       "<p>1557 rows × 2 columns</p>\n",
       "</div>"
      ],
      "text/plain": [
       "           category                                               text\n",
       "2007           tech  new delay hits eu software laws a fresh delay ...\n",
       "2172          sport  middlesbrough 2-2 charlton a late header by te...\n",
       "2187          sport  jones files conte lawsuit marion jones has fil...\n",
       "1878          sport  wales hails new superstar one game into his si...\n",
       "1414  entertainment  doves soar to uk album summit manchester rock ...\n",
       "...             ...                                                ...\n",
       "153        business  german business confidence slides german busin...\n",
       "1780  entertainment  hobbit picture  four years away  lord of the r...\n",
       "866   entertainment  south bank awards honour hit soap coronation s...\n",
       "74         business  call to save manufacturing jobs the trades uni...\n",
       "338        business  aids and climate top davos agenda climate chan...\n",
       "\n",
       "[1557 rows x 2 columns]"
      ]
     },
     "execution_count": 32,
     "metadata": {},
     "output_type": "execute_result"
    }
   ],
   "source": [
    "df_train"
   ]
  },
  {
   "cell_type": "code",
   "execution_count": 33,
   "id": "a90ecbde",
   "metadata": {},
   "outputs": [],
   "source": [
    "# Tokenize the words\n",
    "df_train['clean_text'] = df_train['text'].apply(nltk.word_tokenize)\n",
    "df_test['clean_text'] = df_test['text'].apply(nltk.word_tokenize)"
   ]
  },
  {
   "cell_type": "code",
   "execution_count": 34,
   "id": "7ef0701b",
   "metadata": {},
   "outputs": [],
   "source": [
    "# Remove stop words\n",
    "stop_words=set(nltk.corpus.stopwords.words(\"english\"))\n",
    "df_train['text_clean'] = df_train['clean_text'].apply(lambda x: [item for item in x if item not in stop_words])\n",
    "df_test['text_clean'] = df_test['clean_text'].apply(lambda x: [item for item in x if item not in stop_words])"
   ]
  },
  {
   "cell_type": "code",
   "execution_count": 35,
   "id": "4517a38a",
   "metadata": {},
   "outputs": [],
   "source": [
    "# Remove numbers, punctuation and special characters (only keep words)\n",
    "regex = '[a-z]+'\n",
    "df_train['text_clean'] = df_train['text_clean'].apply(lambda x: [item for item in x if re.match(regex, item)])\n",
    "df_test['text_clean'] = df_test['text_clean'].apply(lambda x: [item for item in x if re.match(regex, item)])"
   ]
  },
  {
   "cell_type": "code",
   "execution_count": 36,
   "id": "23ce2156",
   "metadata": {},
   "outputs": [
    {
     "data": {
      "text/html": [
       "<div>\n",
       "<style scoped>\n",
       "    .dataframe tbody tr th:only-of-type {\n",
       "        vertical-align: middle;\n",
       "    }\n",
       "\n",
       "    .dataframe tbody tr th {\n",
       "        vertical-align: top;\n",
       "    }\n",
       "\n",
       "    .dataframe thead th {\n",
       "        text-align: right;\n",
       "    }\n",
       "</style>\n",
       "<table border=\"1\" class=\"dataframe\">\n",
       "  <thead>\n",
       "    <tr style=\"text-align: right;\">\n",
       "      <th></th>\n",
       "      <th>category</th>\n",
       "      <th>text</th>\n",
       "      <th>clean_text</th>\n",
       "      <th>text_clean</th>\n",
       "    </tr>\n",
       "  </thead>\n",
       "  <tbody>\n",
       "    <tr>\n",
       "      <th>2007</th>\n",
       "      <td>tech</td>\n",
       "      <td>new delay hits eu software laws a fresh delay ...</td>\n",
       "      <td>[new, delay, hits, eu, software, laws, a, fres...</td>\n",
       "      <td>[new, delay, hits, eu, software, laws, fresh, ...</td>\n",
       "    </tr>\n",
       "    <tr>\n",
       "      <th>2172</th>\n",
       "      <td>sport</td>\n",
       "      <td>middlesbrough 2-2 charlton a late header by te...</td>\n",
       "      <td>[middlesbrough, 2-2, charlton, a, late, header...</td>\n",
       "      <td>[middlesbrough, charlton, late, header, teenag...</td>\n",
       "    </tr>\n",
       "    <tr>\n",
       "      <th>2187</th>\n",
       "      <td>sport</td>\n",
       "      <td>jones files conte lawsuit marion jones has fil...</td>\n",
       "      <td>[jones, files, conte, lawsuit, marion, jones, ...</td>\n",
       "      <td>[jones, files, conte, lawsuit, marion, jones, ...</td>\n",
       "    </tr>\n",
       "    <tr>\n",
       "      <th>1878</th>\n",
       "      <td>sport</td>\n",
       "      <td>wales hails new superstar one game into his si...</td>\n",
       "      <td>[wales, hails, new, superstar, one, game, into...</td>\n",
       "      <td>[wales, hails, new, superstar, one, game, six,...</td>\n",
       "    </tr>\n",
       "    <tr>\n",
       "      <th>1414</th>\n",
       "      <td>entertainment</td>\n",
       "      <td>doves soar to uk album summit manchester rock ...</td>\n",
       "      <td>[doves, soar, to, uk, album, summit, mancheste...</td>\n",
       "      <td>[doves, soar, uk, album, summit, manchester, r...</td>\n",
       "    </tr>\n",
       "    <tr>\n",
       "      <th>...</th>\n",
       "      <td>...</td>\n",
       "      <td>...</td>\n",
       "      <td>...</td>\n",
       "      <td>...</td>\n",
       "    </tr>\n",
       "    <tr>\n",
       "      <th>153</th>\n",
       "      <td>business</td>\n",
       "      <td>german business confidence slides german busin...</td>\n",
       "      <td>[german, business, confidence, slides, german,...</td>\n",
       "      <td>[german, business, confidence, slides, german,...</td>\n",
       "    </tr>\n",
       "    <tr>\n",
       "      <th>1780</th>\n",
       "      <td>entertainment</td>\n",
       "      <td>hobbit picture  four years away  lord of the r...</td>\n",
       "      <td>[hobbit, picture, four, years, away, lord, of,...</td>\n",
       "      <td>[hobbit, picture, four, years, away, lord, rin...</td>\n",
       "    </tr>\n",
       "    <tr>\n",
       "      <th>866</th>\n",
       "      <td>entertainment</td>\n",
       "      <td>south bank awards honour hit soap coronation s...</td>\n",
       "      <td>[south, bank, awards, honour, hit, soap, coron...</td>\n",
       "      <td>[south, bank, awards, honour, hit, soap, coron...</td>\n",
       "    </tr>\n",
       "    <tr>\n",
       "      <th>74</th>\n",
       "      <td>business</td>\n",
       "      <td>call to save manufacturing jobs the trades uni...</td>\n",
       "      <td>[call, to, save, manufacturing, jobs, the, tra...</td>\n",
       "      <td>[call, save, manufacturing, jobs, trades, unio...</td>\n",
       "    </tr>\n",
       "    <tr>\n",
       "      <th>338</th>\n",
       "      <td>business</td>\n",
       "      <td>aids and climate top davos agenda climate chan...</td>\n",
       "      <td>[aids, and, climate, top, davos, agenda, clima...</td>\n",
       "      <td>[aids, climate, top, davos, agenda, climate, c...</td>\n",
       "    </tr>\n",
       "  </tbody>\n",
       "</table>\n",
       "<p>1557 rows × 4 columns</p>\n",
       "</div>"
      ],
      "text/plain": [
       "           category                                               text  \\\n",
       "2007           tech  new delay hits eu software laws a fresh delay ...   \n",
       "2172          sport  middlesbrough 2-2 charlton a late header by te...   \n",
       "2187          sport  jones files conte lawsuit marion jones has fil...   \n",
       "1878          sport  wales hails new superstar one game into his si...   \n",
       "1414  entertainment  doves soar to uk album summit manchester rock ...   \n",
       "...             ...                                                ...   \n",
       "153        business  german business confidence slides german busin...   \n",
       "1780  entertainment  hobbit picture  four years away  lord of the r...   \n",
       "866   entertainment  south bank awards honour hit soap coronation s...   \n",
       "74         business  call to save manufacturing jobs the trades uni...   \n",
       "338        business  aids and climate top davos agenda climate chan...   \n",
       "\n",
       "                                             clean_text  \\\n",
       "2007  [new, delay, hits, eu, software, laws, a, fres...   \n",
       "2172  [middlesbrough, 2-2, charlton, a, late, header...   \n",
       "2187  [jones, files, conte, lawsuit, marion, jones, ...   \n",
       "1878  [wales, hails, new, superstar, one, game, into...   \n",
       "1414  [doves, soar, to, uk, album, summit, mancheste...   \n",
       "...                                                 ...   \n",
       "153   [german, business, confidence, slides, german,...   \n",
       "1780  [hobbit, picture, four, years, away, lord, of,...   \n",
       "866   [south, bank, awards, honour, hit, soap, coron...   \n",
       "74    [call, to, save, manufacturing, jobs, the, tra...   \n",
       "338   [aids, and, climate, top, davos, agenda, clima...   \n",
       "\n",
       "                                             text_clean  \n",
       "2007  [new, delay, hits, eu, software, laws, fresh, ...  \n",
       "2172  [middlesbrough, charlton, late, header, teenag...  \n",
       "2187  [jones, files, conte, lawsuit, marion, jones, ...  \n",
       "1878  [wales, hails, new, superstar, one, game, six,...  \n",
       "1414  [doves, soar, uk, album, summit, manchester, r...  \n",
       "...                                                 ...  \n",
       "153   [german, business, confidence, slides, german,...  \n",
       "1780  [hobbit, picture, four, years, away, lord, rin...  \n",
       "866   [south, bank, awards, honour, hit, soap, coron...  \n",
       "74    [call, save, manufacturing, jobs, trades, unio...  \n",
       "338   [aids, climate, top, davos, agenda, climate, c...  \n",
       "\n",
       "[1557 rows x 4 columns]"
      ]
     },
     "execution_count": 36,
     "metadata": {},
     "output_type": "execute_result"
    }
   ],
   "source": [
    "df_train"
   ]
  },
  {
   "cell_type": "code",
   "execution_count": 37,
   "id": "c0e4ea3d",
   "metadata": {},
   "outputs": [],
   "source": [
    "# Lemmatization\n",
    "lem = nltk.stem.wordnet.WordNetLemmatizer()\n",
    "df_train['text_clean'] = df_train['text_clean'].apply(lambda x: [lem.lemmatize(item, pos='v') for item in x])\n",
    "df_test['text_clean'] = df_test['text_clean'].apply(lambda x: [lem.lemmatize(item, pos='v') for item in x])"
   ]
  },
  {
   "cell_type": "code",
   "execution_count": 38,
   "id": "5e5a29f1",
   "metadata": {},
   "outputs": [
    {
     "data": {
      "text/html": [
       "<div>\n",
       "<style scoped>\n",
       "    .dataframe tbody tr th:only-of-type {\n",
       "        vertical-align: middle;\n",
       "    }\n",
       "\n",
       "    .dataframe tbody tr th {\n",
       "        vertical-align: top;\n",
       "    }\n",
       "\n",
       "    .dataframe thead th {\n",
       "        text-align: right;\n",
       "    }\n",
       "</style>\n",
       "<table border=\"1\" class=\"dataframe\">\n",
       "  <thead>\n",
       "    <tr style=\"text-align: right;\">\n",
       "      <th></th>\n",
       "      <th>category</th>\n",
       "      <th>text</th>\n",
       "      <th>clean_text</th>\n",
       "      <th>text_clean</th>\n",
       "    </tr>\n",
       "  </thead>\n",
       "  <tbody>\n",
       "    <tr>\n",
       "      <th>2007</th>\n",
       "      <td>tech</td>\n",
       "      <td>new delay hits eu software laws a fresh delay ...</td>\n",
       "      <td>[new, delay, hits, eu, software, laws, a, fres...</td>\n",
       "      <td>[new, delay, hit, eu, software, laws, fresh, d...</td>\n",
       "    </tr>\n",
       "    <tr>\n",
       "      <th>2172</th>\n",
       "      <td>sport</td>\n",
       "      <td>middlesbrough 2-2 charlton a late header by te...</td>\n",
       "      <td>[middlesbrough, 2-2, charlton, a, late, header...</td>\n",
       "      <td>[middlesbrough, charlton, late, header, teenag...</td>\n",
       "    </tr>\n",
       "    <tr>\n",
       "      <th>2187</th>\n",
       "      <td>sport</td>\n",
       "      <td>jones files conte lawsuit marion jones has fil...</td>\n",
       "      <td>[jones, files, conte, lawsuit, marion, jones, ...</td>\n",
       "      <td>[jones, file, conte, lawsuit, marion, jones, f...</td>\n",
       "    </tr>\n",
       "    <tr>\n",
       "      <th>1878</th>\n",
       "      <td>sport</td>\n",
       "      <td>wales hails new superstar one game into his si...</td>\n",
       "      <td>[wales, hails, new, superstar, one, game, into...</td>\n",
       "      <td>[wales, hail, new, superstar, one, game, six, ...</td>\n",
       "    </tr>\n",
       "    <tr>\n",
       "      <th>1414</th>\n",
       "      <td>entertainment</td>\n",
       "      <td>doves soar to uk album summit manchester rock ...</td>\n",
       "      <td>[doves, soar, to, uk, album, summit, mancheste...</td>\n",
       "      <td>[doves, soar, uk, album, summit, manchester, r...</td>\n",
       "    </tr>\n",
       "    <tr>\n",
       "      <th>...</th>\n",
       "      <td>...</td>\n",
       "      <td>...</td>\n",
       "      <td>...</td>\n",
       "      <td>...</td>\n",
       "    </tr>\n",
       "    <tr>\n",
       "      <th>153</th>\n",
       "      <td>business</td>\n",
       "      <td>german business confidence slides german busin...</td>\n",
       "      <td>[german, business, confidence, slides, german,...</td>\n",
       "      <td>[german, business, confidence, slide, german, ...</td>\n",
       "    </tr>\n",
       "    <tr>\n",
       "      <th>1780</th>\n",
       "      <td>entertainment</td>\n",
       "      <td>hobbit picture  four years away  lord of the r...</td>\n",
       "      <td>[hobbit, picture, four, years, away, lord, of,...</td>\n",
       "      <td>[hobbit, picture, four, years, away, lord, rin...</td>\n",
       "    </tr>\n",
       "    <tr>\n",
       "      <th>866</th>\n",
       "      <td>entertainment</td>\n",
       "      <td>south bank awards honour hit soap coronation s...</td>\n",
       "      <td>[south, bank, awards, honour, hit, soap, coron...</td>\n",
       "      <td>[south, bank, award, honour, hit, soap, corona...</td>\n",
       "    </tr>\n",
       "    <tr>\n",
       "      <th>74</th>\n",
       "      <td>business</td>\n",
       "      <td>call to save manufacturing jobs the trades uni...</td>\n",
       "      <td>[call, to, save, manufacturing, jobs, the, tra...</td>\n",
       "      <td>[call, save, manufacture, job, trade, union, c...</td>\n",
       "    </tr>\n",
       "    <tr>\n",
       "      <th>338</th>\n",
       "      <td>business</td>\n",
       "      <td>aids and climate top davos agenda climate chan...</td>\n",
       "      <td>[aids, and, climate, top, davos, agenda, clima...</td>\n",
       "      <td>[aid, climate, top, davos, agenda, climate, ch...</td>\n",
       "    </tr>\n",
       "  </tbody>\n",
       "</table>\n",
       "<p>1557 rows × 4 columns</p>\n",
       "</div>"
      ],
      "text/plain": [
       "           category                                               text  \\\n",
       "2007           tech  new delay hits eu software laws a fresh delay ...   \n",
       "2172          sport  middlesbrough 2-2 charlton a late header by te...   \n",
       "2187          sport  jones files conte lawsuit marion jones has fil...   \n",
       "1878          sport  wales hails new superstar one game into his si...   \n",
       "1414  entertainment  doves soar to uk album summit manchester rock ...   \n",
       "...             ...                                                ...   \n",
       "153        business  german business confidence slides german busin...   \n",
       "1780  entertainment  hobbit picture  four years away  lord of the r...   \n",
       "866   entertainment  south bank awards honour hit soap coronation s...   \n",
       "74         business  call to save manufacturing jobs the trades uni...   \n",
       "338        business  aids and climate top davos agenda climate chan...   \n",
       "\n",
       "                                             clean_text  \\\n",
       "2007  [new, delay, hits, eu, software, laws, a, fres...   \n",
       "2172  [middlesbrough, 2-2, charlton, a, late, header...   \n",
       "2187  [jones, files, conte, lawsuit, marion, jones, ...   \n",
       "1878  [wales, hails, new, superstar, one, game, into...   \n",
       "1414  [doves, soar, to, uk, album, summit, mancheste...   \n",
       "...                                                 ...   \n",
       "153   [german, business, confidence, slides, german,...   \n",
       "1780  [hobbit, picture, four, years, away, lord, of,...   \n",
       "866   [south, bank, awards, honour, hit, soap, coron...   \n",
       "74    [call, to, save, manufacturing, jobs, the, tra...   \n",
       "338   [aids, and, climate, top, davos, agenda, clima...   \n",
       "\n",
       "                                             text_clean  \n",
       "2007  [new, delay, hit, eu, software, laws, fresh, d...  \n",
       "2172  [middlesbrough, charlton, late, header, teenag...  \n",
       "2187  [jones, file, conte, lawsuit, marion, jones, f...  \n",
       "1878  [wales, hail, new, superstar, one, game, six, ...  \n",
       "1414  [doves, soar, uk, album, summit, manchester, r...  \n",
       "...                                                 ...  \n",
       "153   [german, business, confidence, slide, german, ...  \n",
       "1780  [hobbit, picture, four, years, away, lord, rin...  \n",
       "866   [south, bank, award, honour, hit, soap, corona...  \n",
       "74    [call, save, manufacture, job, trade, union, c...  \n",
       "338   [aid, climate, top, davos, agenda, climate, ch...  \n",
       "\n",
       "[1557 rows x 4 columns]"
      ]
     },
     "execution_count": 38,
     "metadata": {},
     "output_type": "execute_result"
    }
   ],
   "source": [
    "df_train"
   ]
  },
  {
   "cell_type": "code",
   "execution_count": 39,
   "id": "18141119",
   "metadata": {},
   "outputs": [],
   "source": [
    "df_train[\"clean_text\"] = df_train.text_clean.apply(lambda x: \" \".join(x))\n",
    "df_test[\"clean_text\"] = df_test.text_clean.apply(lambda x: \" \".join(x))"
   ]
  },
  {
   "cell_type": "code",
   "execution_count": 41,
   "id": "461811fd",
   "metadata": {},
   "outputs": [],
   "source": [
    "vectorizer = TfidfVectorizer()\n",
    "\n",
    "x_train = vectorizer.fit_transform(df_train.clean_text)\n",
    "x_test = vectorizer.transform(df_test.clean_text)\n",
    "y_train = df_train.category.tolist()\n",
    "y_test = df_test.category.tolist()"
   ]
  },
  {
   "cell_type": "code",
   "execution_count": 46,
   "id": "ef406556",
   "metadata": {},
   "outputs": [
    {
     "name": "stderr",
     "output_type": "stream",
     "text": [
      "\r",
      "  0%|                                                                                                                                                                                                                  | 0/24 [00:00<?, ?it/s]"
     ]
    },
    {
     "name": "stdout",
     "output_type": "stream",
     "text": [
      "Processing AdaBoostClassifier estimator\n"
     ]
    },
    {
     "name": "stderr",
     "output_type": "stream",
     "text": [
      "\r",
      "  4%|████████▍                                                                                                                                                                                                 | 1/24 [00:01<00:42,  1.83s/it]"
     ]
    },
    {
     "name": "stdout",
     "output_type": "stream",
     "text": [
      "Processing BaggingClassifier estimator\n"
     ]
    },
    {
     "name": "stderr",
     "output_type": "stream",
     "text": [
      "\r",
      "  8%|████████████████▊                                                                                                                                                                                         | 2/24 [00:05<01:02,  2.83s/it]"
     ]
    },
    {
     "name": "stdout",
     "output_type": "stream",
     "text": [
      "Processing BernoulliNB estimator\n",
      "Processing CalibratedClassifierCV estimator\n"
     ]
    },
    {
     "name": "stderr",
     "output_type": "stream",
     "text": [
      "\r",
      " 17%|█████████████████████████████████▋                                                                                                                                                                        | 4/24 [00:05<00:24,  1.22s/it]"
     ]
    },
    {
     "name": "stdout",
     "output_type": "stream",
     "text": [
      "Processing ComplementNB estimator\n",
      "Processing DecisionTreeClassifier estimator\n"
     ]
    },
    {
     "name": "stderr",
     "output_type": "stream",
     "text": [
      "\r",
      " 25%|██████████████████████████████████████████████████▌                                                                                                                                                       | 6/24 [00:06<00:13,  1.32it/s]"
     ]
    },
    {
     "name": "stdout",
     "output_type": "stream",
     "text": [
      "Processing DummyClassifier estimator\n",
      "Processing ExtraTreeClassifier estimator\n",
      "Processing ExtraTreesClassifier estimator\n"
     ]
    },
    {
     "name": "stderr",
     "output_type": "stream",
     "text": [
      "\r",
      " 38%|███████████████████████████████████████████████████████████████████████████▊                                                                                                                              | 9/24 [00:08<00:09,  1.50it/s]"
     ]
    },
    {
     "name": "stdout",
     "output_type": "stream",
     "text": [
      "Processing GradientBoostingClassifier estimator\n"
     ]
    },
    {
     "name": "stderr",
     "output_type": "stream",
     "text": [
      " 46%|████████████████████████████████████████████████████████████████████████████████████████████▏                                                                                                            | 11/24 [00:47<01:23,  6.39s/it]"
     ]
    },
    {
     "name": "stdout",
     "output_type": "stream",
     "text": [
      "Processing KNeighborsClassifier estimator\n",
      "Processing LinearSVC estimator\n"
     ]
    },
    {
     "name": "stderr",
     "output_type": "stream",
     "text": [
      "\r",
      " 50%|████████████████████████████████████████████████████████████████████████████████████████████████████▌                                                                                                    | 12/24 [00:47<00:58,  4.90s/it]"
     ]
    },
    {
     "name": "stdout",
     "output_type": "stream",
     "text": [
      "Processing LogisticRegression estimator\n"
     ]
    },
    {
     "name": "stderr",
     "output_type": "stream",
     "text": [
      "\r",
      " 54%|████████████████████████████████████████████████████████████████████████████████████████████████████████████▊                                                                                            | 13/24 [00:50<00:48,  4.41s/it]"
     ]
    },
    {
     "name": "stdout",
     "output_type": "stream",
     "text": [
      "Processing LogisticRegressionCV estimator\n"
     ]
    },
    {
     "name": "stderr",
     "output_type": "stream",
     "text": [
      "\r",
      " 58%|█████████████████████████████████████████████████████████████████████████████████████████████████████████████████████▎                                                                                   | 14/24 [02:40<05:22, 32.29s/it]"
     ]
    },
    {
     "name": "stdout",
     "output_type": "stream",
     "text": [
      "Processing MLPClassifier estimator\n"
     ]
    },
    {
     "name": "stderr",
     "output_type": "stream",
     "text": [
      "\r",
      " 62%|█████████████████████████████████████████████████████████████████████████████████████████████████████████████████████████████▋                                                                           | 15/24 [03:15<04:58, 33.21s/it]"
     ]
    },
    {
     "name": "stdout",
     "output_type": "stream",
     "text": [
      "Processing MultinomialNB estimator\n",
      "Processing NearestCentroid estimator\n",
      "Processing NuSVC estimator\n"
     ]
    },
    {
     "name": "stderr",
     "output_type": "stream",
     "text": [
      " 79%|███████████████████████████████████████████████████████████████████████████████████████████████████████████████████████████████████████████████████████████████▏                                         | 19/24 [03:24<01:06, 13.35s/it]"
     ]
    },
    {
     "name": "stdout",
     "output_type": "stream",
     "text": [
      "Processing PassiveAggressiveClassifier estimator\n",
      "Processing Perceptron estimator\n",
      "Processing RandomForestClassifier estimator\n"
     ]
    },
    {
     "name": "stderr",
     "output_type": "stream",
     "text": [
      " 92%|████████████████████████████████████████████████████████████████████████████████████████████████████████████████████████████████████████████████████████████████████████████████████████▎                | 22/24 [03:25<00:13,  6.90s/it]"
     ]
    },
    {
     "name": "stdout",
     "output_type": "stream",
     "text": [
      "Processing RidgeClassifier estimator\n",
      "Processing SGDClassifier estimator\n"
     ]
    },
    {
     "name": "stderr",
     "output_type": "stream",
     "text": [
      "\r",
      " 96%|████████████████████████████████████████████████████████████████████████████████████████████████████████████████████████████████████████████████████████████████████████████████████████████████▋        | 23/24 [03:25<00:05,  5.34s/it]"
     ]
    },
    {
     "name": "stdout",
     "output_type": "stream",
     "text": [
      "Processing SVC estimator\n"
     ]
    },
    {
     "name": "stderr",
     "output_type": "stream",
     "text": [
      "100%|█████████████████████████████████████████████████████████████████████████████████████████████████████████████████████████████████████████████████████████████████████████████████████████████████████████| 24/24 [03:34<00:00,  8.93s/it]"
     ]
    },
    {
     "name": "stdout",
     "output_type": "stream",
     "text": [
      "\n",
      " Label Analysis\n",
      "| Classes             | Weights              |\n",
      "|--------------------:|---------------------:|\n",
      "| tech                | 0.8725490196078431   |\n",
      "| politics            | 1.1528497409326426   |\n",
      "| sport               | 1.0671462829736211   |\n",
      "| entertainment       | 0.8708414872798435   |\n",
      "| business            | 1.1097256857855362   |\n",
      "\n",
      " Result Analysis\n",
      "| Model                         | Accuracy            | Balanced Accuracy   | F1 Score            | Custom Metric Score | Time Taken          |\n",
      "| ----------------------------: | -------------------:| -------------------:| -------------------:| -------------------:| -------------------:|\n",
      "| AdaBoostClassifier            | 0.7260479041916168  | 0.717737172132769   | 0.7248335989941609  | NA                  | 1.829047679901123   |\n",
      "| BaggingClassifier             | 0.8817365269461078  | 0.8796633962363677  | 0.8814695332332374  | NA                  | 3.5215072631835938  |\n",
      "| BernoulliNB                   | 0.9535928143712575  | 0.9505929193425733  | 0.9533647387436917  | NA                  | 0.020041465759277344|\n",
      "| CalibratedClassifierCV        | 0.9760479041916168  | 0.9760018220340847  | 0.9755904096436046  | NA                  | 0.4990670680999756  |\n",
      "| ComplementNB                  | 0.9760479041916168  | 0.9752329192546583  | 0.9754237510855159  | NA                  | 0.013598203659057617|\n",
      "| DecisionTreeClassifier        | 0.8532934131736527  | 0.8473956671194278  | 0.8496464898940103  | NA                  | 0.478792667388916   |\n",
      "| DummyClassifier               | 0.2155688622754491  | 0.2                 | 0.07093596059113301 | NA                  | 0.008046865463256836|\n",
      "| ExtraTreeClassifier           | 0.7275449101796407  | 0.7253518459908658  | 0.7255575847020816  | NA                  | 0.026398658752441406|\n",
      "| ExtraTreesClassifier          | 0.9655688622754491  | 0.9635363285903302  | 0.9649837485086689  | NA                  | 1.6907336711883545  |\n",
      "| GradientBoostingClassifier    | 0.9565868263473054  | 0.9543725191544354  | 0.9554606292723953  | NA                  | 39.16400766372681   |\n",
      "| KNeighborsClassifier          | 0.938622754491018   | 0.9370053693959814  | 0.9367294513157219  | NA                  | 0.14803171157836914 |\n",
      "| LinearSVC                     | 0.9745508982035929  | 0.974262691599302   | 0.9740343976103922  | NA                  | 0.10053229331970215 |\n",
      "| LogisticRegression            | 0.968562874251497   | 0.9668995859213251  | 0.9678778814908909  | NA                  | 2.9565982818603516  |\n",
      "| LogisticRegressionCV          | 0.9715568862275449  | 0.9708896757262861  | 0.971147482393915   | NA                  | 109.64091444015503  |\n",
      "| MLPClassifier                 | 0.9760479041916168  | 0.9753381642512078  | 0.9752912960666735  | NA                  | 35.64296746253967   |\n",
      "| MultinomialNB                 | 0.9700598802395209  | 0.9678795721187026  | 0.9689200656860745  | NA                  | 0.024427413940429688|\n",
      "| NearestCentroid               | 0.9520958083832335  | 0.9499045135454718  | 0.9515097876015481  | NA                  | 0.024636268615722656|\n",
      "| NuSVC                         | 0.9670658682634731  | 0.9656159420289855  | 0.9669719954040374  | NA                  | 8.287142515182495   |\n",
      "| PassiveAggressiveClassifier   | 0.9775449101796407  | 0.9772388820754925  | 0.9770812340935414  | NA                  | 0.10332632064819336 |\n",
      "| Perceptron                    | 0.9775449101796407  | 0.9769254658385094  | 0.9768161404324825  | NA                  | 0.07216000556945801 |\n",
      "| RandomForestClassifier        | 0.9625748502994012  | 0.9605135542632081  | 0.9624462948504477  | NA                  | 1.2427525520324707  |\n",
      "| RidgeClassifier               | 0.9775449101796407  | 0.9769254658385093  | 0.9769176825464448  | NA                  | 0.17272400856018066 |\n",
      "| SGDClassifier                 | 0.9700598802395209  | 0.9695007868373973  | 0.969787370271274   | NA                  | 0.13134551048278809 |\n",
      "| SVC                           | 0.9715568862275449  | 0.9703778467908902  | 0.9713021262026043  | NA                  | 8.388679027557373   |\n",
      "\n",
      "\n"
     ]
    },
    {
     "name": "stderr",
     "output_type": "stream",
     "text": [
      "\n"
     ]
    }
   ],
   "source": [
    "lazy_text = LazyTextPredict(\n",
    "    classification_type=\"multiclass\",\n",
    "    )\n",
    "models = lazy_text.fit(x_train, x_test, y_train, y_test)"
   ]
  },
  {
   "cell_type": "code",
   "execution_count": 47,
   "id": "30a183f7",
   "metadata": {},
   "outputs": [
    {
     "data": {
      "text/plain": [
       "{'name': 'AdaBoostClassifier',\n",
       " 'accuracy': 0.7260479041916168,\n",
       " 'balanced_accuracy': 0.717737172132769,\n",
       " 'f1_score': 0.7248335989941609,\n",
       " 'custom_metric_score': 'NA',\n",
       " 'time': 1.829047679901123,\n",
       " 'model': AdaBoostClassifier(),\n",
       " 'confusion_matrix': array([[ 89,   5,  12,  35,   3],\n",
       "        [  8,  58,   5,  44,   0],\n",
       "        [  5,   2, 108,  10,   1],\n",
       "        [  5,   7,   5, 138,   2],\n",
       "        [ 25,   5,   1,   3,  92]]),\n",
       " 'classification_report': '              precision    recall  f1-score   support\\n\\n           0       0.67      0.62      0.64       144\\n           1       0.75      0.50      0.60       115\\n           2       0.82      0.86      0.84       126\\n           3       0.60      0.88      0.71       157\\n           4       0.94      0.73      0.82       126\\n\\n    accuracy                           0.73       668\\n   macro avg       0.76      0.72      0.72       668\\nweighted avg       0.75      0.73      0.72       668\\n'}"
      ]
     },
     "execution_count": 47,
     "metadata": {},
     "output_type": "execute_result"
    }
   ],
   "source": [
    "models[0]"
   ]
  },
  {
   "cell_type": "code",
   "execution_count": 42,
   "id": "d3473d42",
   "metadata": {},
   "outputs": [
    {
     "data": {
      "text/plain": [
       "MultinomialNB()"
      ]
     },
     "execution_count": 42,
     "metadata": {},
     "output_type": "execute_result"
    }
   ],
   "source": [
    "from sklearn.naive_bayes import MultinomialNB\n",
    "\n",
    "clf = MultinomialNB()\n",
    "\n",
    "clf.fit(x_train, y_train)"
   ]
  },
  {
   "cell_type": "code",
   "execution_count": 43,
   "id": "1cf92dfd",
   "metadata": {},
   "outputs": [],
   "source": [
    "preds = clf.predict(x_test)"
   ]
  },
  {
   "cell_type": "code",
   "execution_count": 44,
   "id": "85c9c82b",
   "metadata": {},
   "outputs": [
    {
     "data": {
      "text/plain": [
       "array(['tech', 'tech', 'tech', 'sport', 'tech', 'politics', 'business',\n",
       "       'sport', 'sport', 'entertainment', 'sport', 'tech', 'politics',\n",
       "       'sport', 'sport', 'business', 'politics', 'tech', 'business',\n",
       "       'entertainment', 'entertainment', 'business', 'tech', 'sport',\n",
       "       'tech', 'entertainment', 'sport', 'sport', 'business', 'sport',\n",
       "       'sport', 'politics', 'sport', 'entertainment', 'tech', 'business',\n",
       "       'tech', 'entertainment', 'entertainment', 'business', 'tech',\n",
       "       'tech', 'sport', 'sport', 'tech', 'politics', 'sport', 'sport',\n",
       "       'tech', 'politics', 'sport', 'entertainment', 'business',\n",
       "       'business', 'business', 'entertainment', 'business', 'sport',\n",
       "       'entertainment', 'business', 'politics', 'sport', 'entertainment',\n",
       "       'entertainment', 'tech', 'politics', 'business', 'politics',\n",
       "       'business', 'entertainment', 'business', 'entertainment',\n",
       "       'business', 'sport', 'business', 'business', 'tech',\n",
       "       'entertainment', 'business', 'politics', 'sport', 'entertainment',\n",
       "       'business', 'tech', 'politics', 'sport', 'politics', 'business',\n",
       "       'politics', 'business', 'sport', 'business', 'tech', 'tech',\n",
       "       'business', 'business', 'sport', 'business', 'business',\n",
       "       'business', 'entertainment', 'sport', 'business', 'business',\n",
       "       'entertainment', 'entertainment', 'tech', 'business', 'sport',\n",
       "       'politics', 'sport', 'tech', 'sport', 'sport', 'sport', 'tech',\n",
       "       'business', 'sport', 'politics', 'politics', 'tech', 'sport',\n",
       "       'politics', 'tech', 'business', 'sport', 'tech', 'sport',\n",
       "       'business', 'sport', 'tech', 'sport', 'tech', 'tech', 'sport',\n",
       "       'politics', 'tech', 'sport', 'tech', 'politics', 'tech',\n",
       "       'business', 'business', 'entertainment', 'business', 'tech',\n",
       "       'tech', 'politics', 'politics', 'politics', 'business',\n",
       "       'entertainment', 'tech', 'sport', 'tech', 'politics', 'politics',\n",
       "       'sport', 'politics', 'business', 'sport', 'tech', 'politics',\n",
       "       'sport', 'sport', 'sport', 'politics', 'sport', 'politics',\n",
       "       'entertainment', 'entertainment', 'tech', 'tech', 'politics',\n",
       "       'politics', 'tech', 'politics', 'entertainment', 'business',\n",
       "       'sport', 'business', 'entertainment', 'sport', 'tech', 'tech',\n",
       "       'entertainment', 'politics', 'politics', 'politics', 'business',\n",
       "       'entertainment', 'politics', 'sport', 'sport', 'politics', 'sport',\n",
       "       'politics', 'business', 'sport', 'sport', 'business', 'politics',\n",
       "       'entertainment', 'business', 'tech', 'business', 'sport', 'sport',\n",
       "       'entertainment', 'entertainment', 'entertainment', 'politics',\n",
       "       'tech', 'sport', 'sport', 'politics', 'entertainment', 'business',\n",
       "       'tech', 'tech', 'sport', 'business', 'entertainment', 'politics',\n",
       "       'sport', 'business', 'entertainment', 'politics', 'entertainment',\n",
       "       'entertainment', 'business', 'politics', 'politics',\n",
       "       'entertainment', 'entertainment', 'politics', 'business', 'sport',\n",
       "       'tech', 'sport', 'business', 'entertainment', 'entertainment',\n",
       "       'sport', 'business', 'tech', 'sport', 'tech', 'tech', 'tech',\n",
       "       'business', 'tech', 'tech', 'politics', 'sport', 'tech',\n",
       "       'business', 'politics', 'entertainment', 'sport', 'politics',\n",
       "       'entertainment', 'entertainment', 'entertainment', 'entertainment',\n",
       "       'business', 'tech', 'business', 'sport', 'entertainment',\n",
       "       'business', 'business', 'sport', 'tech', 'business', 'sport',\n",
       "       'sport', 'politics', 'sport', 'politics', 'entertainment',\n",
       "       'politics', 'entertainment', 'sport', 'sport', 'tech', 'tech',\n",
       "       'sport', 'tech', 'politics', 'tech', 'business', 'sport',\n",
       "       'entertainment', 'tech', 'business', 'business', 'politics',\n",
       "       'politics', 'sport', 'politics', 'politics', 'business',\n",
       "       'politics', 'sport', 'tech', 'business', 'entertainment', 'sport',\n",
       "       'politics', 'sport', 'entertainment', 'sport', 'business',\n",
       "       'entertainment', 'entertainment', 'business', 'entertainment',\n",
       "       'politics', 'entertainment', 'business', 'politics', 'politics',\n",
       "       'tech', 'business', 'tech', 'politics', 'business', 'politics',\n",
       "       'business', 'business', 'tech', 'tech', 'tech', 'business',\n",
       "       'politics', 'tech', 'entertainment', 'sport', 'sport', 'politics',\n",
       "       'business', 'politics', 'sport', 'sport', 'business', 'business',\n",
       "       'sport', 'sport', 'sport', 'sport', 'sport', 'entertainment',\n",
       "       'entertainment', 'tech', 'sport', 'politics', 'politics', 'sport',\n",
       "       'business', 'entertainment', 'sport', 'politics', 'tech',\n",
       "       'business', 'entertainment', 'politics', 'tech', 'entertainment',\n",
       "       'business', 'entertainment', 'business', 'tech', 'sport',\n",
       "       'politics', 'sport', 'sport', 'business', 'business', 'sport',\n",
       "       'tech', 'business', 'politics', 'entertainment', 'business',\n",
       "       'sport', 'business', 'politics', 'politics', 'business',\n",
       "       'entertainment', 'entertainment', 'tech', 'entertainment', 'sport',\n",
       "       'tech', 'business', 'politics', 'business', 'politics', 'business',\n",
       "       'tech', 'entertainment', 'entertainment', 'tech', 'sport',\n",
       "       'business', 'politics', 'tech', 'sport', 'politics', 'politics',\n",
       "       'business', 'politics', 'entertainment', 'sport', 'tech',\n",
       "       'politics', 'politics', 'sport', 'business', 'sport', 'sport',\n",
       "       'business', 'entertainment', 'entertainment', 'sport', 'politics',\n",
       "       'business', 'sport', 'sport', 'tech', 'sport', 'politics',\n",
       "       'politics', 'business', 'sport', 'tech', 'politics', 'tech',\n",
       "       'sport', 'business', 'entertainment', 'tech', 'entertainment',\n",
       "       'sport', 'business', 'business', 'tech', 'tech', 'tech',\n",
       "       'politics', 'politics', 'tech', 'business', 'tech', 'tech',\n",
       "       'business', 'business', 'politics', 'politics', 'tech', 'politics',\n",
       "       'politics', 'entertainment', 'business', 'politics',\n",
       "       'entertainment', 'business', 'tech', 'business', 'tech',\n",
       "       'business', 'business', 'tech', 'sport', 'sport', 'politics',\n",
       "       'tech', 'sport', 'tech', 'tech', 'politics', 'sport', 'sport',\n",
       "       'politics', 'business', 'tech', 'business', 'tech', 'tech', 'tech',\n",
       "       'politics', 'entertainment', 'business', 'sport', 'business',\n",
       "       'business', 'business', 'politics', 'business', 'business',\n",
       "       'business', 'entertainment', 'entertainment', 'sport', 'business',\n",
       "       'entertainment', 'politics', 'sport', 'business', 'politics',\n",
       "       'sport', 'entertainment', 'politics', 'tech', 'politics',\n",
       "       'entertainment', 'business', 'tech', 'sport', 'entertainment',\n",
       "       'politics', 'sport', 'politics', 'business', 'tech',\n",
       "       'entertainment', 'entertainment', 'sport', 'entertainment',\n",
       "       'politics', 'business', 'politics', 'sport', 'politics', 'tech',\n",
       "       'tech', 'sport', 'entertainment', 'politics', 'politics', 'sport',\n",
       "       'sport', 'sport', 'sport', 'tech', 'tech', 'politics', 'business',\n",
       "       'tech', 'business', 'entertainment', 'sport', 'tech', 'business',\n",
       "       'politics', 'sport', 'sport', 'sport', 'tech', 'entertainment',\n",
       "       'business', 'tech', 'sport', 'politics', 'business', 'business',\n",
       "       'politics', 'business', 'business', 'sport', 'sport', 'sport',\n",
       "       'tech', 'politics', 'sport', 'business', 'tech', 'sport',\n",
       "       'business', 'sport', 'entertainment', 'politics', 'sport',\n",
       "       'business', 'entertainment', 'tech', 'sport', 'entertainment',\n",
       "       'business', 'tech', 'tech', 'entertainment', 'business',\n",
       "       'politics', 'tech', 'entertainment', 'tech', 'tech', 'sport',\n",
       "       'politics', 'tech', 'sport', 'entertainment', 'politics', 'tech',\n",
       "       'business', 'entertainment', 'sport', 'politics', 'sport',\n",
       "       'business', 'entertainment', 'business', 'politics',\n",
       "       'entertainment', 'politics', 'sport', 'politics', 'entertainment',\n",
       "       'tech', 'entertainment', 'tech', 'tech', 'entertainment',\n",
       "       'business', 'sport', 'politics', 'tech', 'business', 'sport',\n",
       "       'sport', 'politics', 'politics', 'politics', 'sport', 'business',\n",
       "       'business', 'sport', 'politics', 'sport', 'business', 'politics',\n",
       "       'business', 'sport', 'sport', 'entertainment', 'business', 'tech',\n",
       "       'politics', 'sport', 'sport', 'business', 'entertainment',\n",
       "       'entertainment', 'tech', 'entertainment', 'sport', 'business',\n",
       "       'entertainment', 'tech', 'business', 'business', 'business',\n",
       "       'sport', 'politics', 'entertainment'], dtype='<U13')"
      ]
     },
     "execution_count": 44,
     "metadata": {},
     "output_type": "execute_result"
    }
   ],
   "source": [
    "preds"
   ]
  },
  {
   "cell_type": "code",
   "execution_count": 48,
   "id": "9fa579a9",
   "metadata": {},
   "outputs": [
    {
     "data": {
      "text/plain": [
       "0.9700598802395209"
      ]
     },
     "execution_count": 48,
     "metadata": {},
     "output_type": "execute_result"
    }
   ],
   "source": [
    "from sklearn.metrics import accuracy_score, classification_report\n",
    "    \n",
    "accuracy_score(y_test, preds)"
   ]
  },
  {
   "cell_type": "code",
   "execution_count": 49,
   "id": "453ef27a",
   "metadata": {},
   "outputs": [
    {
     "name": "stdout",
     "output_type": "stream",
     "text": [
      "               precision    recall  f1-score   support\n",
      "\n",
      "     business       0.94      0.97      0.95       144\n",
      "entertainment       1.00      0.92      0.96       115\n",
      "     politics       0.95      0.98      0.96       126\n",
      "        sport       1.00      1.00      1.00       157\n",
      "         tech       0.97      0.98      0.97       126\n",
      "\n",
      "     accuracy                           0.97       668\n",
      "    macro avg       0.97      0.97      0.97       668\n",
      " weighted avg       0.97      0.97      0.97       668\n",
      "\n"
     ]
    }
   ],
   "source": [
    "print(classification_report(y_test, preds))"
   ]
  },
  {
   "cell_type": "code",
   "execution_count": null,
   "id": "66aa3d55",
   "metadata": {},
   "outputs": [],
   "source": []
  }
 ],
 "metadata": {
  "kernelspec": {
   "display_name": "Python 3 (ipykernel)",
   "language": "python",
   "name": "python3"
  },
  "language_info": {
   "codemirror_mode": {
    "name": "ipython",
    "version": 3
   },
   "file_extension": ".py",
   "mimetype": "text/x-python",
   "name": "python",
   "nbconvert_exporter": "python",
   "pygments_lexer": "ipython3",
   "version": "3.8.5"
  }
 },
 "nbformat": 4,
 "nbformat_minor": 5
}
